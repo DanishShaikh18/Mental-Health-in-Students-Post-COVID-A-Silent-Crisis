{
 "cells": [
  {
   "cell_type": "markdown",
   "id": "a07f6d5c",
   "metadata": {},
   "source": [
    "# 🧠 Mental Health in Students Post-COVID: A Silent Crisis?\n",
    "#### 📊 Preprocessing Notebook + Exploratory Data Analysis (EDA)\n"
   ]
  },
  {
   "cell_type": "markdown",
   "id": "d79fd562",
   "metadata": {},
   "source": [
    "> *\"The classrooms reopened, but something never quite returned.\"*  \n",
    "> *\"Smiles came back, but the silence grew louder.\"*\n",
    "\n",
    "The COVID-19 pandemic reshaped the world in ways we are still trying to understand—and among its most silent victims were **students**. Behind the return to academic routine lies a shadow crisis: **increased anxiety, depression, sleep disorders, and even suicidal thoughts**. This project aims to explore and analyze the **mental health impact on students post-COVID**, using real-world data that includes psychological, academic, lifestyle, and demographic variables.\n",
    "\n",
    "Through this notebook, we will:\n",
    "- 🧹 Perform **data preprocessing** to clean and shape the dataset.\n",
    "- 📊 Conduct **exploratory data analysis (EDA)** to uncover patterns, correlations, and warning signs.\n",
    "- 🎯 Use visualizations that not only highlight trends, but **tell the story of students' struggles** in a post-pandemic world.\n",
    "\n",
    "This is not just a statistical exercise — it's an attempt to quantify a **crisis hidden in plain sight**.\n",
    "\n",
    "Let’s begin."
   ]
  },
  {
   "cell_type": "markdown",
   "id": "dcd7b87f",
   "metadata": {},
   "source": [
    "## 🔧 Imports\n",
    "Below are the necessary libraries required for data handling, visualization, and basic preprocessing.\n"
   ]
  },
  {
   "cell_type": "code",
   "execution_count": 7,
   "id": "cc3b5d57",
   "metadata": {},
   "outputs": [],
   "source": [
    "# 📦 Basic Imports\n",
    "import numpy as np\n",
    "import pandas as pd\n",
    "\n",
    "# 📊 Visualization Libraries\n",
    "import matplotlib.pyplot as plt\n",
    "import seaborn as sns\n",
    "\n",
    "# 🛠️ Display Settings\n",
    "plt.style.use('ggplot')\n",
    "sns.set_palette('Set2')\n",
    "import warnings\n",
    "warnings.filterwarnings('ignore')\n",
    "\n",
    "# 🧠 Optional: For interactive visuals (if you plan to add later)\n",
    "# import plotly.express as px\n",
    "# import cufflinks as cf\n",
    "# cf.go_offline()\n",
    "\n",
    "# 🧹 For Preprocessing\n",
    "from sklearn.preprocessing import LabelEncoder\n"
   ]
  },
  {
   "cell_type": "markdown",
   "id": "8b1bd5cf",
   "metadata": {},
   "source": [
    "## 📂 Loading and Combining Datasets\n",
    "\n",
    "We are working with **two publicly available datasets** focused on student mental health after pandemic.  \n",
    "Both datasets have nearly identical structures, but we ensured consistency by applying minor modifications before merging them into a single dataframe.\n",
    "\n",
    "> Final merged dataset will be the foundation of all our preprocessing and analysis.\n"
   ]
  },
  {
   "cell_type": "code",
   "execution_count": 85,
   "id": "63eab415",
   "metadata": {},
   "outputs": [],
   "source": [
    "# Load the first cleaned dataset (already preprocessed and saved)\n",
    "df1 = pd.read_excel(r'datasets/final_depression_dataset_2.xlsx')\n",
    "\n",
    "# Load the second dataset which had original raw data\n",
    "df2 = pd.read_excel(r'datasets/student_depression_dataset.xlsx')"
   ]
  },
  {
   "cell_type": "markdown",
   "id": "613a615b",
   "metadata": {},
   "source": [
    "Modifications of both datasets before merging"
   ]
  },
  {
   "cell_type": "code",
   "execution_count": 86,
   "id": "c9ed546a",
   "metadata": {},
   "outputs": [],
   "source": [
    "#Drop unnecessary columns from both datasets\n",
    "# These columns are not needed for our analysis and visualization\n",
    "df1 = df1.drop(columns=['Profession', 'Work Pressure', 'Job Satisfaction'])\n",
    "df2 = df2.drop(columns=['Profession', 'Work Pressure', 'Job Satisfaction'])"
   ]
  },
  {
   "cell_type": "code",
   "execution_count": 87,
   "id": "0b593687",
   "metadata": {},
   "outputs": [],
   "source": [
    "#Renaming columns for consistency\n",
    "# This ensures both datasets have the same column names for merging\n",
    "df1 = df1.rename(columns={'Have you ever had suicidal thoughts ?': 'Suicidal Thoughts',\n",
    "                        'Work/Study Hours': 'Study Hours',})\n",
    "df2 = df2.rename(columns={'Have you ever had suicidal thoughts ?': 'Suicidal Thoughts',\n",
    "                        'Work/Study Hours': 'Study Hours',})"
   ]
  },
  {
   "cell_type": "markdown",
   "id": "f817d29e",
   "metadata": {},
   "source": [
    "Merge both DataFrames"
   ]
  },
  {
   "cell_type": "code",
   "execution_count": 88,
   "id": "c90f87fb",
   "metadata": {},
   "outputs": [],
   "source": [
    "#Merged both DataFrames using pd.concat\n",
    "# This combines the two datasets into a single DataFrame for analysis\n",
    "merged_df = pd.concat([df1, df2], ignore_index=True)"
   ]
  },
  {
   "cell_type": "markdown",
   "id": "b41711eb",
   "metadata": {},
   "source": [
    "You can view your new Dataframe information "
   ]
  },
  {
   "cell_type": "code",
   "execution_count": 89,
   "id": "75c0d9df",
   "metadata": {},
   "outputs": [
    {
     "name": "stdout",
     "output_type": "stream",
     "text": [
      "<class 'pandas.core.frame.DataFrame'>\n",
      "RangeIndex: 28403 entries, 0 to 28402\n",
      "Data columns (total 14 columns):\n",
      " #   Column                            Non-Null Count  Dtype  \n",
      "---  ------                            --------------  -----  \n",
      " 0   Gender                            28403 non-null  object \n",
      " 1   Age                               28403 non-null  int64  \n",
      " 2   City                              28403 non-null  object \n",
      " 3   Academic Pressure                 28403 non-null  int64  \n",
      " 4   CGPA                              28403 non-null  float64\n",
      " 5   Study Satisfaction                28403 non-null  int64  \n",
      " 6   Sleep Duration                    28403 non-null  object \n",
      " 7   Dietary Habits                    28403 non-null  object \n",
      " 8   Degree                            28403 non-null  object \n",
      " 9   Suicidal Thoughts                 28403 non-null  object \n",
      " 10  Study Hours                       28403 non-null  int64  \n",
      " 11  Financial Stress                  28403 non-null  object \n",
      " 12  Family History of Mental Illness  28403 non-null  object \n",
      " 13  Depression                        28403 non-null  object \n",
      "dtypes: float64(1), int64(4), object(9)\n",
      "memory usage: 3.0+ MB\n"
     ]
    }
   ],
   "source": [
    "merged_df.info()"
   ]
  },
  {
   "cell_type": "markdown",
   "id": "ce093945",
   "metadata": {},
   "source": [
    "We will see how our new DataFrame is looking "
   ]
  },
  {
   "cell_type": "code",
   "execution_count": 90,
   "id": "f4918f6e",
   "metadata": {},
   "outputs": [
    {
     "data": {
      "application/vnd.microsoft.datawrangler.viewer.v0+json": {
       "columns": [
        {
         "name": "index",
         "rawType": "int64",
         "type": "integer"
        },
        {
         "name": "Gender",
         "rawType": "object",
         "type": "string"
        },
        {
         "name": "Age",
         "rawType": "int64",
         "type": "integer"
        },
        {
         "name": "City",
         "rawType": "object",
         "type": "string"
        },
        {
         "name": "Academic Pressure",
         "rawType": "int64",
         "type": "integer"
        },
        {
         "name": "CGPA",
         "rawType": "float64",
         "type": "float"
        },
        {
         "name": "Study Satisfaction",
         "rawType": "int64",
         "type": "integer"
        },
        {
         "name": "Sleep Duration",
         "rawType": "object",
         "type": "string"
        },
        {
         "name": "Dietary Habits",
         "rawType": "object",
         "type": "string"
        },
        {
         "name": "Degree",
         "rawType": "object",
         "type": "string"
        },
        {
         "name": "Suicidal Thoughts",
         "rawType": "object",
         "type": "string"
        },
        {
         "name": "Study Hours",
         "rawType": "int64",
         "type": "integer"
        },
        {
         "name": "Financial Stress",
         "rawType": "object",
         "type": "unknown"
        },
        {
         "name": "Family History of Mental Illness",
         "rawType": "object",
         "type": "string"
        },
        {
         "name": "Depression",
         "rawType": "object",
         "type": "string"
        }
       ],
       "ref": "b10af5c0-5a80-429c-812e-247f681863b1",
       "rows": [
        [
         "0",
         "Male",
         "28",
         "Varanasi",
         "2",
         "6.51",
         "4",
         "7-8 hours",
         "Moderate",
         "BA",
         "Yes",
         "9",
         "2",
         "Yes",
         "No"
        ],
        [
         "1",
         "Male",
         "28",
         "Bangalore",
         "4",
         "7.48",
         "5",
         "5-6 hours",
         "Healthy",
         "MD",
         "Yes",
         "7",
         "1",
         "Yes",
         "No"
        ],
        [
         "2",
         "Male",
         "25",
         "Rajkot",
         "1",
         "7.21",
         "3",
         "5-6 hours",
         "Unhealthy",
         "MBBS",
         "Yes",
         "10",
         "4",
         "No",
         "Yes"
        ],
        [
         "3",
         "Male",
         "23",
         "Mumbai",
         "1",
         "9.9",
         "4",
         "More than 8 hours",
         "Unhealthy",
         "MSc",
         "Yes",
         "7",
         "2",
         "Yes",
         "No"
        ],
        [
         "4",
         "Female",
         "31",
         "Vadodara",
         "1",
         "5.97",
         "5",
         "More than 8 hours",
         "Healthy",
         "LLM",
         "Yes",
         "4",
         "2",
         "Yes",
         "No"
        ]
       ],
       "shape": {
        "columns": 14,
        "rows": 5
       }
      },
      "text/html": [
       "<div>\n",
       "<style scoped>\n",
       "    .dataframe tbody tr th:only-of-type {\n",
       "        vertical-align: middle;\n",
       "    }\n",
       "\n",
       "    .dataframe tbody tr th {\n",
       "        vertical-align: top;\n",
       "    }\n",
       "\n",
       "    .dataframe thead th {\n",
       "        text-align: right;\n",
       "    }\n",
       "</style>\n",
       "<table border=\"1\" class=\"dataframe\">\n",
       "  <thead>\n",
       "    <tr style=\"text-align: right;\">\n",
       "      <th></th>\n",
       "      <th>Gender</th>\n",
       "      <th>Age</th>\n",
       "      <th>City</th>\n",
       "      <th>Academic Pressure</th>\n",
       "      <th>CGPA</th>\n",
       "      <th>Study Satisfaction</th>\n",
       "      <th>Sleep Duration</th>\n",
       "      <th>Dietary Habits</th>\n",
       "      <th>Degree</th>\n",
       "      <th>Suicidal Thoughts</th>\n",
       "      <th>Study Hours</th>\n",
       "      <th>Financial Stress</th>\n",
       "      <th>Family History of Mental Illness</th>\n",
       "      <th>Depression</th>\n",
       "    </tr>\n",
       "  </thead>\n",
       "  <tbody>\n",
       "    <tr>\n",
       "      <th>0</th>\n",
       "      <td>Male</td>\n",
       "      <td>28</td>\n",
       "      <td>Varanasi</td>\n",
       "      <td>2</td>\n",
       "      <td>6.51</td>\n",
       "      <td>4</td>\n",
       "      <td>7-8 hours</td>\n",
       "      <td>Moderate</td>\n",
       "      <td>BA</td>\n",
       "      <td>Yes</td>\n",
       "      <td>9</td>\n",
       "      <td>2</td>\n",
       "      <td>Yes</td>\n",
       "      <td>No</td>\n",
       "    </tr>\n",
       "    <tr>\n",
       "      <th>1</th>\n",
       "      <td>Male</td>\n",
       "      <td>28</td>\n",
       "      <td>Bangalore</td>\n",
       "      <td>4</td>\n",
       "      <td>7.48</td>\n",
       "      <td>5</td>\n",
       "      <td>5-6 hours</td>\n",
       "      <td>Healthy</td>\n",
       "      <td>MD</td>\n",
       "      <td>Yes</td>\n",
       "      <td>7</td>\n",
       "      <td>1</td>\n",
       "      <td>Yes</td>\n",
       "      <td>No</td>\n",
       "    </tr>\n",
       "    <tr>\n",
       "      <th>2</th>\n",
       "      <td>Male</td>\n",
       "      <td>25</td>\n",
       "      <td>Rajkot</td>\n",
       "      <td>1</td>\n",
       "      <td>7.21</td>\n",
       "      <td>3</td>\n",
       "      <td>5-6 hours</td>\n",
       "      <td>Unhealthy</td>\n",
       "      <td>MBBS</td>\n",
       "      <td>Yes</td>\n",
       "      <td>10</td>\n",
       "      <td>4</td>\n",
       "      <td>No</td>\n",
       "      <td>Yes</td>\n",
       "    </tr>\n",
       "    <tr>\n",
       "      <th>3</th>\n",
       "      <td>Male</td>\n",
       "      <td>23</td>\n",
       "      <td>Mumbai</td>\n",
       "      <td>1</td>\n",
       "      <td>9.90</td>\n",
       "      <td>4</td>\n",
       "      <td>More than 8 hours</td>\n",
       "      <td>Unhealthy</td>\n",
       "      <td>MSc</td>\n",
       "      <td>Yes</td>\n",
       "      <td>7</td>\n",
       "      <td>2</td>\n",
       "      <td>Yes</td>\n",
       "      <td>No</td>\n",
       "    </tr>\n",
       "    <tr>\n",
       "      <th>4</th>\n",
       "      <td>Female</td>\n",
       "      <td>31</td>\n",
       "      <td>Vadodara</td>\n",
       "      <td>1</td>\n",
       "      <td>5.97</td>\n",
       "      <td>5</td>\n",
       "      <td>More than 8 hours</td>\n",
       "      <td>Healthy</td>\n",
       "      <td>LLM</td>\n",
       "      <td>Yes</td>\n",
       "      <td>4</td>\n",
       "      <td>2</td>\n",
       "      <td>Yes</td>\n",
       "      <td>No</td>\n",
       "    </tr>\n",
       "  </tbody>\n",
       "</table>\n",
       "</div>"
      ],
      "text/plain": [
       "   Gender  Age       City  Academic Pressure  CGPA  Study Satisfaction  \\\n",
       "0    Male   28   Varanasi                  2  6.51                   4   \n",
       "1    Male   28  Bangalore                  4  7.48                   5   \n",
       "2    Male   25     Rajkot                  1  7.21                   3   \n",
       "3    Male   23     Mumbai                  1  9.90                   4   \n",
       "4  Female   31   Vadodara                  1  5.97                   5   \n",
       "\n",
       "      Sleep Duration Dietary Habits Degree Suicidal Thoughts  Study Hours  \\\n",
       "0          7-8 hours       Moderate     BA               Yes            9   \n",
       "1          5-6 hours        Healthy     MD               Yes            7   \n",
       "2          5-6 hours      Unhealthy   MBBS               Yes           10   \n",
       "3  More than 8 hours      Unhealthy    MSc               Yes            7   \n",
       "4  More than 8 hours        Healthy    LLM               Yes            4   \n",
       "\n",
       "  Financial Stress Family History of Mental Illness Depression  \n",
       "0                2                              Yes         No  \n",
       "1                1                              Yes         No  \n",
       "2                4                               No        Yes  \n",
       "3                2                              Yes         No  \n",
       "4                2                              Yes         No  "
      ]
     },
     "execution_count": 90,
     "metadata": {},
     "output_type": "execute_result"
    }
   ],
   "source": [
    "merged_df.head(5)"
   ]
  },
  {
   "cell_type": "markdown",
   "id": "ff6ed908",
   "metadata": {},
   "source": [
    "#### 🧹 Data Preprocessing & Normalization\n",
    "\n",
    "Before we dive into exploratory analysis, we will perform essential preprocessing steps and normalize categorical column values to ensure consistency and enhance the clarity of our visualizations.\n"
   ]
  },
  {
   "cell_type": "markdown",
   "id": "6048dec9",
   "metadata": {},
   "source": [
    "Convert Male/Female to M/F"
   ]
  },
  {
   "cell_type": "code",
   "execution_count": 91,
   "id": "78763de5",
   "metadata": {},
   "outputs": [],
   "source": [
    "#Using map function to convert Male/Female to M/F\n",
    "# This creates cleaner labels for plots and improves readability in visual analysis\n",
    "merged_df['Gender'] = merged_df['Gender'].map({'Male' : 'M' , 'Female':'F'})"
   ]
  },
  {
   "cell_type": "markdown",
   "id": "73483575",
   "metadata": {},
   "source": [
    "#### Convert All columns who has Yes/No to 1/0\n",
    "Converting to 1/0 simplifies analysis and makes the data ready for statistical and machine learning models."
   ]
  },
  {
   "cell_type": "code",
   "execution_count": 92,
   "id": "380ea90d",
   "metadata": {},
   "outputs": [],
   "source": [
    "#We will create a list of columns that have Yes/No values\n",
    "# Converting these columns to 1/0 for easier analysis\n",
    "lst = ['Suicidal Thoughts' , 'Family History of Mental Illness' , 'Depression']\n",
    "\n",
    "#Using loop to iterate through the list and map Yes/No to 1/0\n",
    "# This simplifies the data for statistical analysis and visualization\n",
    "for columns in lst:\n",
    "    merged_df[columns] = merged_df[columns].map({'Yes': '1', 'No': '0'})"
   ]
  },
  {
   "cell_type": "code",
   "execution_count": 93,
   "id": "6661bcbf",
   "metadata": {},
   "outputs": [
    {
     "data": {
      "application/vnd.microsoft.datawrangler.viewer.v0+json": {
       "columns": [
        {
         "name": "Sleep Duration",
         "rawType": "object",
         "type": "string"
        },
        {
         "name": "count",
         "rawType": "int64",
         "type": "integer"
        }
       ],
       "ref": "8242ca11-9322-4824-b240-5c20a05ca893",
       "rows": [
        [
         "'Less than 5 hours'",
         "8310"
        ],
        [
         "'7-8 hours'",
         "7346"
        ],
        [
         "'5-6 hours'",
         "6183"
        ],
        [
         "'More than 8 hours'",
         "6044"
        ],
        [
         "7-8 hours",
         "128"
        ],
        [
         "More than 8 hours",
         "128"
        ],
        [
         "5-6 hours",
         "123"
        ],
        [
         "Less than 5 hours",
         "123"
        ],
        [
         "Others",
         "18"
        ]
       ],
       "shape": {
        "columns": 1,
        "rows": 9
       }
      },
      "text/plain": [
       "Sleep Duration\n",
       "'Less than 5 hours'    8310\n",
       "'7-8 hours'            7346\n",
       "'5-6 hours'            6183\n",
       "'More than 8 hours'    6044\n",
       "7-8 hours               128\n",
       "More than 8 hours       128\n",
       "5-6 hours               123\n",
       "Less than 5 hours       123\n",
       "Others                   18\n",
       "Name: count, dtype: int64"
      ]
     },
     "execution_count": 93,
     "metadata": {},
     "output_type": "execute_result"
    }
   ],
   "source": [
    "merged_df['Sleep Duration'].value_counts()\n",
    "#You can see here due to comma we have repeated values in different formats\n",
    "#We will remove those commas to make it consistent\n",
    "#Then we will convert the column to numeric type for better analysis"
   ]
  },
  {
   "cell_type": "markdown",
   "id": "46d99358",
   "metadata": {},
   "source": [
    "Convert Sleep Duration into numeric"
   ]
  },
  {
   "cell_type": "code",
   "execution_count": 94,
   "id": "cc921b99",
   "metadata": {},
   "outputs": [],
   "source": [
    "#we will create a mapping dictionary to convert sleep duration strings to numeric values\n",
    "mapping = {\n",
    "    '5-6 hours': 5.5,\n",
    "    \"'5-6 hours'\": 5.5,\n",
    "    '7-8 hours': 7.5,\n",
    "    \"'7-8 hours'\": 7.5,\n",
    "    'More than 8 hours': 9,\n",
    "    \"'More than 8 hours'\": 9,\n",
    "    'Less than 5 hours': 4.5,\n",
    "    \"'Less than 5 hours'\": 4.5,\n",
    "    'Others': np.nan  # You can impute or drop later\n",
    "}\n",
    "\n",
    "#By using the map function and mapping dict, we can convert the 'Sleep Duration' column to numeric values\n",
    "merged_df['Sleep Duration'] = merged_df['Sleep Duration'].map(mapping)"
   ]
  },
  {
   "cell_type": "markdown",
   "id": "6516de1c",
   "metadata": {},
   "source": [
    "We have 18 Null Values due to Other "
   ]
  },
  {
   "cell_type": "code",
   "execution_count": 95,
   "id": "33967089",
   "metadata": {},
   "outputs": [
    {
     "data": {
      "text/plain": [
       "18"
      ]
     },
     "execution_count": 95,
     "metadata": {},
     "output_type": "execute_result"
    }
   ],
   "source": [
    "merged_df['Sleep Duration'].isnull().sum()"
   ]
  },
  {
   "cell_type": "code",
   "execution_count": 96,
   "id": "2053c85b",
   "metadata": {},
   "outputs": [],
   "source": [
    "#Using fillna to handle missing values in 'Sleep Duration'\n",
    "# This replaces NaN values with the mean of the column for better analysis\n",
    "merged_df['Sleep Duration'].fillna(merged_df['Sleep Duration'].mean(), inplace=True)"
   ]
  },
  {
   "cell_type": "code",
   "execution_count": 97,
   "id": "40ba672c",
   "metadata": {},
   "outputs": [
    {
     "data": {
      "text/plain": [
       "0"
      ]
     },
     "execution_count": 97,
     "metadata": {},
     "output_type": "execute_result"
    }
   ],
   "source": [
    "#Now you can check the number of null values in 'Sleep Duration' again\n",
    "merged_df['Sleep Duration'].isnull().sum()"
   ]
  },
  {
   "cell_type": "markdown",
   "id": "984b20e7",
   "metadata": {},
   "source": [
    "Convert Healthy, Moderate and Unhealthy into Numeric values for better analysis"
   ]
  },
  {
   "cell_type": "code",
   "execution_count": 98,
   "id": "59876b79",
   "metadata": {},
   "outputs": [],
   "source": [
    "#Convert Healthy, Moderate and Unhealthy into Numeric values for better analysis\n",
    "# This will help in statistical analysis and visualization\n",
    "merged_df['Dietary Habits'] = merged_df['Dietary Habits'].map({'Healthy':'2' , 'Unhealthy':'0' , 'Moderate':'1'})"
   ]
  },
  {
   "cell_type": "markdown",
   "id": "af2adfa3",
   "metadata": {},
   "source": [
    "Delete Rows who's Age is Greater than 27 for focusing on Student Age"
   ]
  },
  {
   "cell_type": "code",
   "execution_count": 105,
   "id": "d6b31f1c",
   "metadata": {},
   "outputs": [],
   "source": [
    "merged_df = merged_df[merged_df['Age'] < 28]"
   ]
  },
  {
   "cell_type": "markdown",
   "id": "5757f76a",
   "metadata": {},
   "source": [
    "Removing Invalid City Rows"
   ]
  },
  {
   "cell_type": "code",
   "execution_count": null,
   "id": "16f5c1fc",
   "metadata": {},
   "outputs": [],
   "source": [
    "#When you see there are some rows who doesn't have a valid city name\n",
    "# We will remove those rows to focus on valid city data\n",
    "merged_df['City'].value_counts()"
   ]
  },
  {
   "cell_type": "code",
   "execution_count": null,
   "id": "3326186c",
   "metadata": {},
   "outputs": [],
   "source": [
    "\n",
    "# Remove rows where the city count is less than 20\n",
    "city_counts = merged_df['City'].value_counts()\n",
    "#This will filter out cities that have less than 20 entries\n",
    "valid_cities = city_counts[city_counts >= 20].index\n",
    "# Filter the DataFrame to keep only rows with valid cities\n",
    "merged_df = merged_df[merged_df['City'].isin(valid_cities)]\n"
   ]
  },
  {
   "cell_type": "markdown",
   "id": "54e77802",
   "metadata": {},
   "source": [
    "Save Cleaned DataFrame into a Excel File"
   ]
  },
  {
   "cell_type": "code",
   "execution_count": 123,
   "id": "42ab2f2f",
   "metadata": {},
   "outputs": [],
   "source": [
    "merged_df.to_excel(r'post_covid_mental_health_cleaned.xlsx', index=False)"
   ]
  },
  {
   "cell_type": "code",
   "execution_count": 125,
   "id": "7679ed59",
   "metadata": {},
   "outputs": [
    {
     "name": "stdout",
     "output_type": "stream",
     "text": [
      "<class 'pandas.core.frame.DataFrame'>\n",
      "Index: 16838 entries, 2 to 28402\n",
      "Data columns (total 14 columns):\n",
      " #   Column                            Non-Null Count  Dtype  \n",
      "---  ------                            --------------  -----  \n",
      " 0   Gender                            16838 non-null  object \n",
      " 1   Age                               16838 non-null  int64  \n",
      " 2   City                              16838 non-null  object \n",
      " 3   Academic Pressure                 16838 non-null  int64  \n",
      " 4   CGPA                              16838 non-null  float64\n",
      " 5   Study Satisfaction                16838 non-null  int64  \n",
      " 6   Sleep Duration                    16838 non-null  float64\n",
      " 7   Dietary Habits                    16838 non-null  int32  \n",
      " 8   Degree                            16838 non-null  object \n",
      " 9   Suicidal Thoughts                 16838 non-null  int32  \n",
      " 10  Study Hours                       16838 non-null  int64  \n",
      " 11  Financial Stress                  16838 non-null  int32  \n",
      " 12  Family History of Mental Illness  16838 non-null  int32  \n",
      " 13  Depression                        16838 non-null  int32  \n",
      "dtypes: float64(2), int32(5), int64(4), object(3)\n",
      "memory usage: 1.6+ MB\n"
     ]
    }
   ],
   "source": [
    "merged_df.info()"
   ]
  },
  {
   "cell_type": "code",
   "execution_count": null,
   "id": "067a7678",
   "metadata": {},
   "outputs": [],
   "source": []
  }
 ],
 "metadata": {
  "kernelspec": {
   "display_name": "base",
   "language": "python",
   "name": "python3"
  },
  "language_info": {
   "codemirror_mode": {
    "name": "ipython",
    "version": 3
   },
   "file_extension": ".py",
   "mimetype": "text/x-python",
   "name": "python",
   "nbconvert_exporter": "python",
   "pygments_lexer": "ipython3",
   "version": "3.12.4"
  }
 },
 "nbformat": 4,
 "nbformat_minor": 5
}
